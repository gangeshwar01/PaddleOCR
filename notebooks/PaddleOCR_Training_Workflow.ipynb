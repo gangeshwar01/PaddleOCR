# Cell 1: Setup and Environment Checks
# ======================================
!nvidia-smi
!pip install paddlepaddle-gpu # Or paddlepaddle for CPU
print("--- Setup Complete ---")

# Cell 2: Clone Repositories
# ======================================
!git clone https://github.com/PaddlePaddle/PaddleOCR.git
# If your project is on GitHub, you'd clone that too. For a local run, this is sufficient.
%cd PaddleOCR
!pip install -r requirements.txt
%cd ..
print("--- Repos Cloned and Dependencies Installed ---")

# Cell 3: Download and Prepare Dataset
# ======================================
# Use !wget or Kaggle's API to download ICDAR 2019 MLT
DATA_URL = "YOUR_DATASET_URL_HERE"
!wget -q -O icdar_data.zip $DATA_URL
!unzip -q icdar_data.zip -d ./data/icdar2019_mlt
print("--- Dataset Downloaded ---")

# Run the preparation script
!python scripts/prepare_icdar_data.py
print("\n--- Data Formatting Complete. Checking label files: ---")
!head -n 2 ./data/train.txt

# Cell 4: Configure Training
# ======================================
# We will use the pre-made config file but could also modify it here.
# For example, to change epochs for a quick run:
# !sed -i 's/epoch_num: 50/epoch_num: 10/' configs/my_icdar_det_config.yml
print("--- Using Config: configs/my_icdar_det_config.yml ---")

# Cell 5: Launch Detection Training
# ======================================
# Navigate into the PaddleOCR directory to run its tools
%cd PaddleOCR

# Before training, make sure to download the pretrained backbone model
!wget -P ./pretrain_models/ https://paddleocr.bj.bcebos.com/dygraph_v2.0/pretrain/MobileNetV3_large_x0_5_pretrained.pdparams

!python tools/train.py -c ../configs/my_icdar_det_config.yml \
  -o Global.save_model_dir=../output/my_icdar_detector/

%cd ..
print("--- Training Finished ---")


# Cell 6: Evaluation
# ======================================
%cd PaddleOCR
# Use the 'best_accuracy' model saved during training
!python tools/eval.py -c ../configs/my_icdar_det_config.yml \
  -o Global.checkpoints=../output/my_icdar_detector/best_accuracy
%cd ..

# Cell 7: Inference and Visualization
# ======================================
%cd PaddleOCR
# Run inference on a sample image from the validation set
!python tools/infer_det.py \
  -c ../configs/my_icdar_det_config.yml \
  -o Global.infer_img=../data/icdar2019_mlt/train/train_xxx.jpg \
  Global.pretrained_model=../output/my_icdar_detector/best_accuracy \
  Global.save_res_path=../output/det_results.txt

# Visualize the results
# (You can use matplotlib and opencv to draw the boxes from det_results.txt onto the image)
import cv2
import matplotlib.pyplot as plt
# ... visualization code here ...
%cd ..
